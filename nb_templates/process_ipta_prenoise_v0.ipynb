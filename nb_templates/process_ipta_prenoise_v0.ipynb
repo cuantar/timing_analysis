{
 "cells": [
  {
   "cell_type": "markdown",
   "metadata": {},
   "source": [
    "# \\[set-up\\], imports\n",
    "See README for more details about installing necessary packages and setting up your environment."
   ]
  },
  {
   "cell_type": "code",
   "execution_count": null,
   "metadata": {},
   "outputs": [],
   "source": [
    "#import timing_analysis.par_checker as pc\n",
    "import timing_analysis.lite_utils as lu\n",
    "import timing_analysis.plot_utils as pu\n",
    "from timing_analysis.timingconfiguration import TimingConfiguration\n",
    "from astropy import log\n",
    "from pint.fitter import ConvergenceFailure\n",
    "import pint.fitter\n",
    "import os\n",
    "import copy\n",
    "from astropy.visualization import quantity_support\n",
    "quantity_support()\n",
    "\n",
    "# notebook gives interactive plots but not until the kernel is done\n",
    "%matplotlib notebook\n",
    "# inline gives non-interactive plots right away\n",
    "#%matplotlib inline\n",
    "\n",
    "# Set logging level (PINT uses loguru)\n",
    "log.setLevel(\"INFO\") # Set desired verbosity of log statements (DEBUG/INFO/WARNING/ERROR)\n",
    "pint.logging.setup(level=\"WARNING\", usecolors=True)"
   ]
  },
  {
   "cell_type": "markdown",
   "metadata": {},
   "source": [
    "# develop/update \\[prenoise\\] timing solution\n",
    "\n",
    "Load configuration (`.yaml`) file, get TOAs and timing model; if you're running from the root of the git distribution, simply edit the `.yaml` file name, otherwise include relevant paths to the `.yaml` file, and `.par`/`.tim` directories as kwargs (see commented example)."
   ]
  },
  {
   "cell_type": "code",
   "execution_count": null,
   "metadata": {},
   "outputs": [],
   "source": [
    "config = \"configs/[psr_name].[nb or wb].yaml\"  # fill in actual path\n",
    "par_directory = None   # default location\n",
    "tim_directory = None   # default location\n",
    "tc = TimingConfiguration(config, par_directory=par_directory, tim_directory=tim_directory)\n",
    "\n",
    "# To combine TOAs, assumption is that cuts have already been applied properly\n",
    "mo,to = tc.get_model_and_toas(apply_initial_cuts=False,usepickle=False)\n",
    "\n",
    "# Computing pulse numbers ensures param changes in the model will not break phase connection\n",
    "to.compute_pulse_numbers(mo)\n",
    "\n",
    "# Set non-binary epochs to the center of the data span\n",
    "lu.center_epochs(mo,to)\n",
    "\n",
    "# Summarize TOAs present\n",
    "to.print_summary()"
   ]
  },
  {
   "cell_type": "code",
   "execution_count": null,
   "metadata": {},
   "outputs": [],
   "source": [
    "# Define the fitter object and plot pre-fit residuals\n",
    "fo = tc.construct_fitter(to,mo)\n",
    "pu.plot_residuals_time(fo, restype='prefit', legend=False)\n",
    "if mo.is_binary:\n",
    "    pu.plot_residuals_orb(fo, restype='prefit', legend=False)"
   ]
  },
  {
   "cell_type": "code",
   "execution_count": null,
   "metadata": {},
   "outputs": [],
   "source": [
    "# Set free params based on list in the config file (want to update JUMP handling differently soon)\n",
    "fo.model.free_params = tc.get_free_params(fo)\n",
    "\n",
    "try:\n",
    "    fo.fit_toas(maxiter=tc.get_niter())\n",
    "    fo.model.CHI2.value = fo.resids.chi2\n",
    "except ConvergenceFailure:\n",
    "    run_Ftest = False\n",
    "    log.warning('Failed to converge; moving on with best result, but should address before final version.')"
   ]
  },
  {
   "cell_type": "code",
   "execution_count": null,
   "metadata": {},
   "outputs": [],
   "source": [
    "# Plot post-fit residuals, print summary of results, write prenoise solution\n",
    "pu.plot_residuals_time(fo, restype='postfit', legend=False)\n",
    "if mo.is_binary:\n",
    "    pu.plot_residuals_orb(fo, restype='postfit', legend=False)\n",
    "    \n",
    "fo.print_summary()\n",
    "lu.check_convergence(fo)\n",
    "\n",
    "lu.write_par(fo,toatype=tc.get_toa_type(),addext='_prenoise')"
   ]
  },
  {
   "cell_type": "code",
   "execution_count": null,
   "metadata": {},
   "outputs": [],
   "source": []
  }
 ],
 "metadata": {
  "kernelspec": {
   "display_name": "Python 3 (ipykernel)",
   "language": "python",
   "name": "python3"
  },
  "language_info": {
   "codemirror_mode": {
    "name": "ipython",
    "version": 3
   },
   "file_extension": ".py",
   "mimetype": "text/x-python",
   "name": "python",
   "nbconvert_exporter": "python",
   "pygments_lexer": "ipython3",
   "version": "3.9.15"
  }
 },
 "nbformat": 4,
 "nbformat_minor": 2
}
