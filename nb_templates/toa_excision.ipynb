{
 "cells": [
  {
   "cell_type": "markdown",
   "metadata": {},
   "source": [
    "Since the notebook server was updated, the following commands need to be run in a terminal before proceeding:\n",
    "```\n",
    "> pip install git+https://github.com/mtlam/PyPulse.git --upgrade --user\n",
    "> pip install numdifftools\n",
    "```\n",
    "Also note: if you have existing pickled tim files in your working directory, remove them before running the notebook, otherwise you're likely to run into an issue with `alias_translation`. A warning has also been implemented to help diagnose this. Don't forget to restart the kernel before proceeding."
   ]
  },
  {
   "cell_type": "code",
   "execution_count": null,
   "metadata": {},
   "outputs": [],
   "source": [
    "from timing_analysis.lite_utils import *\n",
    "from timing_analysis.par_checker import *\n",
    "from timing_analysis.utils import *\n",
    "from timing_analysis.dmx_utils import *\n",
    "from timing_analysis.timingconfiguration import TimingConfiguration\n",
    "from timing_analysis.outlier_utils import *\n",
    "from timing_analysis.utils import apply_cut_flag, apply_cut_select\n",
    "import yaml\n",
    "from astropy import log\n",
    "import pint.fitter\n",
    "from pint.utils import dmxparse\n",
    "import os\n",
    "\n",
    "# For manual inspection:\n",
    "from ipywidgets import *\n",
    "from IPython.display import Image, display"
   ]
  },
  {
   "cell_type": "code",
   "execution_count": null,
   "metadata": {},
   "outputs": [],
   "source": [
    "config = \"configs/[psr_name].[nb or wb].yaml\"  # fill in actual path\n",
    "par_directory = None   # default location\n",
    "tim_directory = None   # default location\n",
    "tc = TimingConfiguration(config, par_directory=par_directory, tim_directory=tim_directory)\n",
    "using_wideband = tc.get_toa_type() == 'WB'\n",
    "\n",
    "# For manual inspection:\n",
    "file_matches, toa_matches = tc.get_investigation_files()"
   ]
  },
  {
   "cell_type": "code",
   "execution_count": null,
   "metadata": {},
   "outputs": [],
   "source": [
    "run_outlier_analysis = False\n",
    "use_outlier_results = False\n",
    "epochdrop_threads = 20\n",
    "\n",
    "if run_outlier_analysis:\n",
    "    mo,to = tc.get_model_and_toas(apply_initial_cuts=True)\n",
    "    to = setup_dmx(mo,to,frequency_ratio=tc.get_fratio(),max_delta_t=tc.get_sw_delay())\n",
    "\n",
    "    # Run outlier analysis and assign outlier probabilities to TOAs (narrowband only)\n",
    "    if not using_wideband:\n",
    "        tc.check_outlier()\n",
    "        calculate_pout(mo, to, tc)\n",
    "        make_pout_cuts(mo, to, tc, outpct_threshold=8.0)\n",
    "\n",
    "    epochalyptica(mo,to,tc,nproc=epochdrop_threads)\n",
    "\n",
    "if use_outlier_results:        \n",
    "    mo,to = tc.get_model_and_toas(excised=True)\n",
    "if (not run_outlier_analysis) and (not use_outlier_results):\n",
    "    mo,to = tc.get_model_and_toas(apply_initial_cuts=True)\n",
    "    to = setup_dmx(mo,to,frequency_ratio=tc.get_fratio(),max_delta_t=tc.get_sw_delay())"
   ]
  },
  {
   "cell_type": "code",
   "execution_count": null,
   "metadata": {},
   "outputs": [],
   "source": [
    "# Quick breakdown of existing cut flags (automated excision)\n",
    "cuts_dict = cut_summary(to,tc)"
   ]
  },
  {
   "cell_type": "code",
   "execution_count": null,
   "metadata": {},
   "outputs": [],
   "source": [
    "# Apply manual cuts and check for redundancies\n",
    "tc.manual_cuts(to)\n",
    "to = setup_dmx(mo,to,frequency_ratio=tc.get_fratio(),max_delta_t=tc.get_sw_delay())"
   ]
  },
  {
   "cell_type": "code",
   "execution_count": null,
   "metadata": {},
   "outputs": [],
   "source": [
    "# Plot residuals vs. time after auto/manual cuts\n",
    "from timing_analysis.plot_utils import plot_residuals_time\n",
    "fo = tc.construct_fitter(to,mo)\n",
    "plot_residuals_time(fo, restype='prefit')"
   ]
  },
  {
   "cell_type": "code",
   "execution_count": null,
   "metadata": {},
   "outputs": [],
   "source": [
    "# Plot residuals & highlight manual cuts\n",
    "highlight_cut_resids(to,mo,tc,ylim_good=True)"
   ]
  },
  {
   "cell_type": "markdown",
   "metadata": {},
   "source": [
    "Running display_excise_dropdowns (as below) will cause dropdowns for each bad-file and bad-toa of interest to be displayed. You should choose whatever combinations of file and plot type you'd like to make, then run the cell after this one (containing the read_excise_dropdowns functions) to read in your choices. The optional arguments all_YFp, all_GTpd, and all_profile will default the checkboxes to those plot types. If not specified, the default will be 'None' (i.e. do not plot). Finally, the make_detective_plots function (next cell) will display your plots. Note that bad_toa entries with \"profile\" plots selected will plot profiles for all bad subints and bad subbands of interest (as well as the integrated profile). "
   ]
  },
  {
   "cell_type": "code",
   "execution_count": null,
   "metadata": {},
   "outputs": [],
   "source": [
    "# Display checkboxes\n",
    "file_select_list, file_pav_list, toa_select_list, toa_pav_list = \\\n",
    "    display_excise_dropdowns(file_matches, toa_matches, all_YFp=False, all_GTpd=False, all_profile=False)"
   ]
  },
  {
   "cell_type": "markdown",
   "metadata": {},
   "source": [
    "As described above, this block will read your choices from the above dropdowns and make plots. Bad files and bad toas are dealt with separately to allow for future use of the bad-toa subint/subband info."
   ]
  },
  {
   "cell_type": "code",
   "execution_count": null,
   "metadata": {
    "scrolled": false
   },
   "outputs": [],
   "source": [
    "# Make plots (indicated by dropdown choices)\n",
    "file_plot_list = read_excise_dropdowns(file_select_list, file_pav_list, file_matches)\n",
    "toa_plot_list = read_excise_dropdowns(toa_select_list, toa_pav_list, toa_matches)\n",
    "make_detective_plots(file_plot_list, file_matches)\n",
    "make_detective_plots(toa_plot_list, toa_matches)"
   ]
  },
  {
   "cell_type": "markdown",
   "metadata": {},
   "source": [
    "If you'd like to look at the cal file associated with any bad-file or bad-toa entry listed in the yaml, run the following two cells. Just as above, the first cell displays the checkboxes (which show the file name, not the cal name!). Then pick your plot types, and run the cell that follows to create the plots (in this case, there isn't a separate step to read the dropdowns)."
   ]
  },
  {
   "cell_type": "code",
   "execution_count": null,
   "metadata": {},
   "outputs": [],
   "source": [
    "# Display cal file checkboxes\n",
    "cal_select_list, full_cal_files = display_cal_dropdowns(file_matches, toa_matches)"
   ]
  },
  {
   "cell_type": "code",
   "execution_count": null,
   "metadata": {},
   "outputs": [],
   "source": [
    "# Read dropdowns and make cal plots\n",
    "read_plot_cal_dropdowns(cal_select_list, full_cal_files)"
   ]
  },
  {
   "cell_type": "code",
   "execution_count": null,
   "metadata": {},
   "outputs": [],
   "source": [
    "# Print more detailed info about bad_toa entries\n",
    "badtoas = tc.get_bad_toas()\n",
    "if badtoas:\n",
    "    for bt in badtoas:\n",
    "        tc.badtoa_info(bt,to)"
   ]
  }
 ],
 "metadata": {
  "kernelspec": {
   "display_name": "Python 3 (ipykernel)",
   "language": "python",
   "name": "python3"
  },
  "language_info": {
   "codemirror_mode": {
    "name": "ipython",
    "version": 3
   },
   "file_extension": ".py",
   "mimetype": "text/x-python",
   "name": "python",
   "nbconvert_exporter": "python",
   "pygments_lexer": "ipython3",
   "version": "3.9.5"
  }
 },
 "nbformat": 4,
 "nbformat_minor": 2
}
